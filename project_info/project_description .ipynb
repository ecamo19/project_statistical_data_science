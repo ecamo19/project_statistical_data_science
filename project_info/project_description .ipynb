{
 "cells": [
  {
   "cell_type": "markdown",
   "id": "368a2925",
   "metadata": {},
   "source": [
    "# Project Description "
   ]
  },
  {
   "cell_type": "markdown",
   "id": "e6b82755",
   "metadata": {},
   "source": [
    "Develop predictive models for the __final year grade (G3)__ using statistical learning methods. \n",
    "\n",
    "You can choose one of the subjects in your project. The completion of the project involves \n",
    "\n",
    "+ Exploratory data analysis (EDA)\n",
    "\n",
    "+ Statistical modeling \n",
    "\n",
    "+ Communication of results. \n",
    "\n",
    "Your analysis should address the following three aspects:\n",
    "\n",
    "+ (A1) Prediction of G3 as a continuous response\n",
    "\n",
    "+ (A2) Prediction of G3 as:\n",
    "\n",
    "    a binary response - pass if G3 ≥ 10, else fail;\n",
    "    or a 5-level response - A: 16-20, B: 14-15, C: 12-13, D:10-11, E:0-9,\n",
    "\n",
    "+ (A3) Inference about G3 without using past grades G1 and G2. (G3 has a strong correlation with G1 and G2 since student achievement is often affected by previous performances. It is more difficult to predict G3 without G1 and G2, but such models are more useful in studying the effect of other relevant features in the dataset.)\n",
    "\n"
   ]
  }
 ],
 "metadata": {
  "kernelspec": {
   "display_name": "R",
   "language": "R",
   "name": "ir"
  },
  "language_info": {
   "codemirror_mode": "r",
   "file_extension": ".r",
   "mimetype": "text/x-r-source",
   "name": "R",
   "pygments_lexer": "r",
   "version": "4.1.1"
  }
 },
 "nbformat": 4,
 "nbformat_minor": 5
}
