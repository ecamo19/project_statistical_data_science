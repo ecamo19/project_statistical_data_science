{
 "cells": [
  {
   "cell_type": "code",
   "execution_count": 6,
   "id": "c1aed807-631a-4b1c-9b65-1edbabf311bf",
   "metadata": {},
   "outputs": [],
   "source": [
    "# Packages\n",
    "library(caret)\n",
    "library(tidyverse)\n",
    "library(janitor)\n",
    "library(randomForest)\n",
    "library(gbm)\n",
    "library(flextable)\n"
   ]
  },
  {
   "cell_type": "code",
   "execution_count": 7,
   "id": "c56bdb7b-102c-4e9b-b029-079c9365c904",
   "metadata": {},
   "outputs": [],
   "source": [
    "# Load data\n",
    "dataset_math_perform  <- read.csv(\"../../../data/clean_data_student_math_performance.csv\", \n",
    "                                      header=TRUE) "
   ]
  },
  {
   "cell_type": "code",
   "execution_count": 8,
   "id": "ec8c13de-19cd-4246-9695-51a94c1cf0c9",
   "metadata": {},
   "outputs": [],
   "source": [
    "math_performance  <- \n",
    "  dataset_math_perform %>% \n",
    "    dplyr::select(-c(g3,X)) %>% \n",
    "        \n",
    "        # Transform variables to numeric\n",
    "        mutate(g3_binary = factor(g3_binary),\n",
    "               g2 = as.integer(g2),\n",
    "               g1 = as.integer(g1),\n",
    "               absences = as.integer(absences)) %>%\n",
    "        # Transform chr type to factor\n",
    "        mutate(across(where(is.character), as.factor))"
   ]
  },
  {
   "cell_type": "markdown",
   "id": "50fcc5b1-4a63-447c-b9f3-4d1f5328eb6a",
   "metadata": {},
   "source": [
    "# Split data into training and testing"
   ]
  },
  {
   "cell_type": "code",
   "execution_count": 9,
   "id": "de928195-7716-4126-9c33-f79b2b02f11f",
   "metadata": {},
   "outputs": [],
   "source": [
    "set.seed(999)\n",
    "# slip data into train and test\n",
    "\n",
    "# Get index\n",
    "train_index <- sample(1:nrow(math_performance ),\n",
    "                      (nrow(math_performance )*75)/100)\n",
    "\n",
    "# Train set\n",
    "math_performance_train <- math_performance[train_index,]\n",
    "\n",
    "# Test set\n",
    "math_performance_test <- math_performance[-train_index,]\n"
   ]
  },
  {
   "cell_type": "code",
   "execution_count": 10,
   "id": "e966f688-6a3b-4e0e-b021-704545a2d72e",
   "metadata": {},
   "outputs": [],
   "source": [
    "# First, we set up the cross validation control\n",
    "# Setting up the k-fold cross validation k = 10 cross-validation folds.\n",
    "\n",
    "#Setting the random seed for replication\n",
    "set.seed(999)\n",
    "\n",
    "#setting up cross-validation\n",
    "cvcontrol <- trainControl(method = \"repeatedcv\", \n",
    "                          number = 10,\n",
    "                          allowParallel = TRUE)"
   ]
  },
  {
   "cell_type": "markdown",
   "id": "a167aab3-eadc-4baf-b4a0-df788c63db49",
   "metadata": {},
   "source": [
    "# Classification Tree"
   ]
  },
  {
   "cell_type": "code",
   "execution_count": 11,
   "id": "02b12951-6437-4c45-ac7f-cd3fc6a8bb23",
   "metadata": {},
   "outputs": [],
   "source": [
    "train_tree <- train(g3_binary ~ ., \n",
    "                   data = math_performance_train,\n",
    "                   method = \"ctree\",\n",
    "                   trControl = cvcontrol,\n",
    "                   tuneLength = 5)"
   ]
  },
  {
   "cell_type": "code",
   "execution_count": 12,
   "id": "99247a3f-e601-4796-9fbc-1c632bf88dbd",
   "metadata": {},
   "outputs": [],
   "source": [
    "# obtaining class predictions\n",
    "tree_class_test <-  predict(train_tree,\n",
    "                            newdata = math_performance_test, \n",
    "                            type = \"raw\")"
   ]
  },
  {
   "cell_type": "code",
   "execution_count": 13,
   "id": "ff13de0a-d7b3-4814-9e1f-aa7fcf53c66d",
   "metadata": {},
   "outputs": [],
   "source": [
    "descision_tree_stats <- confusionMatrix(math_performance_test$g3_binary,\n",
    "                                        tree_class_test,positive = \"pass\" )\n",
    "\n",
    "decision_table <- \n",
    "    rbind(as.data.frame(descision_tree_stats[3]) %>%\n",
    "            rownames_to_column(\"var\") %>% \n",
    "            rename(value = \"overall\") %>% \n",
    "            filter(var %in% c(\"Accuracy\",\"AccuracyLower\",\"AccuracyUpper\")),\n",
    "            \n",
    "          as.data.frame(descision_tree_stats[4]) %>% \n",
    "            rownames_to_column(\"var\")  %>%\n",
    "            rename(value = \"byClass\") %>%\n",
    "            filter(var %in% c(\"Sensitivity\",\"Specificity\"))) %>%\n",
    "      \n",
    "    mutate(model = factor(rep(\"decision_tree\", nrow(.))))"
   ]
  },
  {
   "cell_type": "markdown",
   "id": "43034d8f-4920-4ff8-a223-22bae93381f4",
   "metadata": {},
   "source": [
    "# Bagging of ctrees"
   ]
  },
  {
   "cell_type": "code",
   "execution_count": 14,
   "id": "9963daba-1200-4788-957e-4105244b7117",
   "metadata": {},
   "outputs": [],
   "source": [
    "#Using treebag \n",
    "train_bagg <- train(g3_binary  ~ ., \n",
    "                   data = math_performance_train,\n",
    "                   method = \"treebag\",\n",
    "                   trControl = cvcontrol,\n",
    "                   importance = TRUE,\n",
    "                   tuneLength = 5,)"
   ]
  },
  {
   "cell_type": "code",
   "execution_count": 15,
   "id": "c6078836-ba09-48d6-9a91-440ce72e4cf9",
   "metadata": {},
   "outputs": [],
   "source": [
    "bagg_class_test <- predict(train_bagg, \n",
    "                          newdata = math_performance_test,\n",
    "                          type=\"raw\")"
   ]
  },
  {
   "cell_type": "code",
   "execution_count": 16,
   "id": "c8b2a6c1-06b0-4519-86f3-0b3c88471288",
   "metadata": {},
   "outputs": [],
   "source": [
    "bagging_stats <- confusionMatrix(math_performance_test$g3_binary, bagg_class_test,\n",
    "                                 positive = \"pass\")\n",
    "\n",
    "bagging_table <- \n",
    "  rbind(as.data.frame(bagging_stats[3]) %>% \n",
    "          rownames_to_column(\"var\") %>% \n",
    "          rename(value = \"overall\") %>% \n",
    "          filter(var %in% c(\"Accuracy\",\"AccuracyLower\",\"AccuracyUpper\")),\n",
    "            \n",
    "        as.data.frame(bagging_stats[4]) %>% \n",
    "          rownames_to_column(\"var\")  %>%\n",
    "          rename(value = \"byClass\") %>%\n",
    "          filter(var %in% c(\"Sensitivity\",\"Specificity\"))) %>% \n",
    "  mutate(model = factor(rep(\"bagging_tree\", nrow(.))))"
   ]
  },
  {
   "cell_type": "code",
   "execution_count": 17,
   "id": "2c88eae1-3af4-4209-9399-5731a2ff675b",
   "metadata": {},
   "outputs": [],
   "source": [
    "# Random Forest for classification trees"
   ]
  },
  {
   "cell_type": "code",
   "execution_count": 18,
   "id": "7ed2772d-2008-4898-bdc5-e79835615ffb",
   "metadata": {},
   "outputs": [],
   "source": [
    "#Using treebag \n",
    "train_random_forest <- train(g3_binary  ~ ., \n",
    "                             data = math_performance_train,\n",
    "                             method = \"rf\",\n",
    "                             trControl = cvcontrol,\n",
    "                             importance = TRUE)"
   ]
  },
  {
   "cell_type": "code",
   "execution_count": 19,
   "id": "44061628-b5f9-4167-b326-0562130f6861",
   "metadata": {},
   "outputs": [],
   "source": [
    "#obtaining class predictions\n",
    "rf_class_test <- predict(train_random_forest, \n",
    "                         newdata = math_performance_test,\n",
    "                          type=\"raw\")"
   ]
  },
  {
   "cell_type": "code",
   "execution_count": 20,
   "id": "625a37cb-5405-4927-b077-11b57b69c0f4",
   "metadata": {},
   "outputs": [],
   "source": [
    "random_forest_stats <- confusionMatrix(math_performance_test$g3_binary,rf_class_test,\n",
    "                positive = \"pass\" )\n",
    "\n",
    "rf_table <- \n",
    "  rbind(as.data.frame(random_forest_stats[3]) %>% \n",
    "        rownames_to_column(\"var\") %>% \n",
    "        rename(value = \"overall\") %>% \n",
    "        filter(var %in% c(\"Accuracy\",\"AccuracyLower\",\"AccuracyUpper\")),\n",
    "          \n",
    "      as.data.frame(random_forest_stats[4]) %>% \n",
    "        rownames_to_column(\"var\")  %>%\n",
    "        rename(value = \"byClass\") %>%\n",
    "        filter(var %in% c(\"Sensitivity\",\"Specificity\"))) %>% \n",
    "  mutate(model = factor(rep(\"random_forest\", nrow(.))))"
   ]
  },
  {
   "cell_type": "markdown",
   "id": "9443aea3-cfb6-4a8b-a9f3-b8f3881c27a0",
   "metadata": {},
   "source": [
    "# Random Forest with Gradient Boosting"
   ]
  },
  {
   "cell_type": "code",
   "execution_count": 21,
   "id": "fc00f244-2f4f-45b9-9cc8-749268e514a9",
   "metadata": {},
   "outputs": [],
   "source": [
    "train_gbm <- train(g3_binary ~ ., \n",
    "                   data = math_performance_train,\n",
    "                   method=\"gbm\",\n",
    "                   \n",
    "                   verbose = F,\n",
    "                   trControl=cvcontrol)"
   ]
  },
  {
   "cell_type": "code",
   "execution_count": 22,
   "id": "125bd17c-e738-41e4-b81f-86e1343d9082",
   "metadata": {},
   "outputs": [],
   "source": [
    "#obtaining class predictions\n",
    "gbm_class_test <-  predict(train_gbm,\n",
    "                           newdata = math_performance_test,\n",
    "                           type = \"raw\",\n",
    "                           importance = T)"
   ]
  },
  {
   "cell_type": "code",
   "execution_count": 23,
   "id": "7f1bee38-7409-4bdf-b84e-1e5b3358bb3e",
   "metadata": {},
   "outputs": [],
   "source": [
    "#computing confusion matrix\n",
    "random_rorest_gradient_boosting_stats <- confusionMatrix(math_performance_test$g3_binary,\n",
    "                                                   gbm_class_test,\n",
    "                                                   positive = \"pass\" )\n",
    "\n",
    "rf_gradient_boosting_table <- \n",
    "          rbind(as.data.frame(random_rorest_gradient_boosting_stats[3]) %>% \n",
    "                  rownames_to_column(\"var\") %>% \n",
    "                  rename(value = \"overall\") %>% \n",
    "                  filter(var %in% c(\"Accuracy\",\"AccuracyLower\",\"AccuracyUpper\")),\n",
    "                    \n",
    "                as.data.frame(random_rorest_gradient_boosting_stats[4]) %>% \n",
    "                  rownames_to_column(\"var\")  %>%\n",
    "                  rename(value = \"byClass\") %>%\n",
    "                  filter(var %in% c(\"Sensitivity\",\"Specificity\"))) %>% \n",
    "          mutate(model = factor(rep(\"random_rorest_gradient_boosting\",nrow(.))))"
   ]
  },
  {
   "cell_type": "markdown",
   "id": "35c9a69b-cced-4b58-ad9f-cea4e2b3d0a0",
   "metadata": {},
   "source": [
    "# kNN"
   ]
  },
  {
   "cell_type": "code",
   "execution_count": 24,
   "id": "6843abd7-3e7c-4da7-8a0f-8ec526bd3616",
   "metadata": {},
   "outputs": [],
   "source": [
    "knn_pred_caret <- train(g3_binary ~ .,\n",
    "                        math_performance_train,\n",
    "                        method = \"knn\",\n",
    "                        preProcess = c(\"center\",\"scale\"))\n"
   ]
  },
  {
   "cell_type": "code",
   "execution_count": 25,
   "id": "57021fc9-8a65-4761-b0db-ca17c51a9cb1",
   "metadata": {},
   "outputs": [],
   "source": [
    "knn_predict <- predict(knn_pred_caret, newdata = math_performance_test)"
   ]
  },
  {
   "cell_type": "code",
   "execution_count": 26,
   "id": "10e9e797-46ee-4c1c-b05e-641a747765e7",
   "metadata": {},
   "outputs": [],
   "source": [
    "knn_stats <- confusionMatrix(knn_predict, math_performance_test$g3_binary, \n",
    "                positive = \"pass\")\n",
    "\n",
    "knn_table <- \n",
    "      rbind(as.data.frame(knn_stats[3]) %>% \n",
    "              rownames_to_column(\"var\") %>% \n",
    "              rename(value = \"overall\") %>% \n",
    "              filter(var %in% c(\"Accuracy\",\"AccuracyLower\",\"AccuracyUpper\")),\n",
    "          \n",
    "            as.data.frame(knn_stats[4]) %>% \n",
    "              rownames_to_column(\"var\")  %>%\n",
    "              rename(value = \"byClass\") %>%\n",
    "              filter(var %in% c(\"Sensitivity\",\"Specificity\"))) %>% \n",
    "      mutate(model = factor(rep(\"knn\", nrow(.))))"
   ]
  },
  {
   "cell_type": "markdown",
   "id": "7e98cfc7-03ea-45c0-9b2f-09f9a05221ce",
   "metadata": {},
   "source": [
    "# Figure 5"
   ]
  },
  {
   "cell_type": "code",
   "execution_count": 27,
   "id": "bd8c493f-c10e-406a-8cec-7a147dc139b1",
   "metadata": {},
   "outputs": [
    {
     "data": {
      "image/png": "[encoded data removed]",
      "text/plain": [
       "plot without title"
      ]
     },
     "metadata": {
      "image/png": {
       "height": 420,
       "width": 420
      }
     },
     "output_type": "display_data"
    }
   ],
   "source": [
    "plot(varImp(train_gbm))"
   ]
  },
  {
   "cell_type": "markdown",
   "id": "10f1e4f0-f10e-4382-9012-6e46446ac141",
   "metadata": {},
   "source": [
    "# Table 5"
   ]
  },
  {
   "cell_type": "code",
   "execution_count": 28,
   "id": "c7f30944-3d5f-45a1-827d-2687a3c54237",
   "metadata": {},
   "outputs": [
    {
     "data": {
      "text/plain": [
       "a flextable object.\n",
       "col_keys: `model`, `Accuracy`, `AccuracyLower`, `AccuracyUpper`, `Sensitivity`, `Specificity` \n",
       "header has 1 row(s) \n",
       "body has 5 row(s) \n",
       "original dataset sample: \n",
       "                            model  Accuracy AccuracyLower AccuracyUpper\n",
       "1                   decision_tree 0.8989899     0.8220754     0.9504891\n",
       "2                    bagging_tree 0.9090909     0.8344310     0.9575835\n",
       "3                   random_forest 0.9090909     0.8344310     0.9575835\n",
       "4 random_rorest_gradient_boosting 0.9191919     0.8469730     0.9644665\n",
       "5                             knn 0.7373737     0.6393278     0.8207276\n",
       "  Sensitivity Specificity\n",
       "1   0.8714286   0.9655172\n",
       "2   0.8955224   0.9375000\n",
       "3   0.8840580   0.9666667\n",
       "4   0.9090909   0.9393939\n",
       "5   0.9354839   0.4054054"
      ]
     },
     "metadata": {},
     "output_type": "display_data"
    }
   ],
   "source": [
    "(table_5 <- rbind(decision_table, bagging_table, rf_table,\n",
    "            rf_gradient_boosting_table, knn_table) %>% \n",
    "    pivot_wider(names_from = var, values_from = value) %>% \n",
    "  flextable())\n"
   ]
  },
  {
   "cell_type": "code",
   "execution_count": null,
   "id": "0f528961-3387-479a-af79-0e816f90f607",
   "metadata": {},
   "outputs": [],
   "source": []
  }
 ],
 "metadata": {
  "kernelspec": {
   "display_name": "R",
   "language": "R",
   "name": "ir"
  },
  "language_info": {
   "codemirror_mode": "r",
   "file_extension": ".r",
   "mimetype": "text/x-r-source",
   "name": "R",
   "pygments_lexer": "r",
   "version": "4.0.4"
  }
 },
 "nbformat": 4,
 "nbformat_minor": 5
}
