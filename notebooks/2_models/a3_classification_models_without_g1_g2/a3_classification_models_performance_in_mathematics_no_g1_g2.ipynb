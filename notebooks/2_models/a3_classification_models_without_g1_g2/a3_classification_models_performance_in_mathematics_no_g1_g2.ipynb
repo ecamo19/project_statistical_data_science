{
 "cells": [
  {
   "cell_type": "code",
   "execution_count": 5,
   "id": "e9c51078-f0f4-4f5a-a6ec-df885a719852",
   "metadata": {},
   "outputs": [
    {
     "name": "stderr",
     "output_type": "stream",
     "text": [
      "Loading required package: ggplot2\n",
      "\n",
      "Loading required package: lattice\n",
      "\n",
      "── \u001b[1mAttaching packages\u001b[22m ───────────────────────────────────────────────────────────────────────────────────────────────────────── tidyverse 1.3.1 ──\n",
      "\n",
      "\u001b[32m✔\u001b[39m \u001b[34mtibble \u001b[39m 3.1.6     \u001b[32m✔\u001b[39m \u001b[34mdplyr  \u001b[39m 1.0.7\n",
      "\u001b[32m✔\u001b[39m \u001b[34mtidyr  \u001b[39m 1.1.4     \u001b[32m✔\u001b[39m \u001b[34mstringr\u001b[39m 1.4.0\n",
      "\u001b[32m✔\u001b[39m \u001b[34mreadr  \u001b[39m 2.1.0     \u001b[32m✔\u001b[39m \u001b[34mforcats\u001b[39m 0.5.1\n",
      "\u001b[32m✔\u001b[39m \u001b[34mpurrr  \u001b[39m 0.3.4     \n",
      "\n",
      "── \u001b[1mConflicts\u001b[22m ──────────────────────────────────────────────────────────────────────────────────────────────────────────── tidyverse_conflicts() ──\n",
      "\u001b[31m✖\u001b[39m \u001b[34mdplyr\u001b[39m::\u001b[32mfilter()\u001b[39m masks \u001b[34mstats\u001b[39m::filter()\n",
      "\u001b[31m✖\u001b[39m \u001b[34mdplyr\u001b[39m::\u001b[32mlag()\u001b[39m    masks \u001b[34mstats\u001b[39m::lag()\n",
      "\u001b[31m✖\u001b[39m \u001b[34mpurrr\u001b[39m::\u001b[32mlift()\u001b[39m   masks \u001b[34mcaret\u001b[39m::lift()\n",
      "\n",
      "\n",
      "Attaching package: ‘janitor’\n",
      "\n",
      "\n",
      "The following objects are masked from ‘package:stats’:\n",
      "\n",
      "    chisq.test, fisher.test\n",
      "\n",
      "\n",
      "For binary classification, the first factor level is assumed to be the event.\n",
      "Use the argument `event_level = \"second\"` to alter this as needed.\n",
      "\n",
      "\n",
      "Attaching package: ‘yardstick’\n",
      "\n",
      "\n",
      "The following object is masked from ‘package:readr’:\n",
      "\n",
      "    spec\n",
      "\n",
      "\n",
      "The following objects are masked from ‘package:caret’:\n",
      "\n",
      "    precision, recall, sensitivity, specificity\n",
      "\n",
      "\n",
      "\n",
      "Attaching package: ‘kknn’\n",
      "\n",
      "\n",
      "The following object is masked from ‘package:caret’:\n",
      "\n",
      "    contr.dummy\n",
      "\n",
      "\n",
      "Loading required package: grid\n",
      "\n",
      "Loading required package: libcoin\n",
      "\n",
      "Loading required package: mvtnorm\n",
      "\n",
      "randomForest 4.6-14\n",
      "\n",
      "Type rfNews() to see new features/changes/bug fixes.\n",
      "\n",
      "\n",
      "Attaching package: ‘randomForest’\n",
      "\n",
      "\n",
      "The following object is masked from ‘package:dplyr’:\n",
      "\n",
      "    combine\n",
      "\n",
      "\n",
      "The following object is masked from ‘package:ggplot2’:\n",
      "\n",
      "    margin\n",
      "\n",
      "\n",
      "\n",
      "Attaching package: ‘psych’\n",
      "\n",
      "\n",
      "The following object is masked from ‘package:randomForest’:\n",
      "\n",
      "    outlier\n",
      "\n",
      "\n",
      "The following objects are masked from ‘package:ggplot2’:\n",
      "\n",
      "    %+%, alpha\n",
      "\n",
      "\n",
      "Type 'citation(\"pROC\")' for a citation.\n",
      "\n",
      "\n",
      "Attaching package: ‘pROC’\n",
      "\n",
      "\n",
      "The following objects are masked from ‘package:stats’:\n",
      "\n",
      "    cov, smooth, var\n",
      "\n",
      "\n",
      "Loaded gbm 2.1.8\n",
      "\n",
      "\n",
      "Attaching package: ‘flextable’\n",
      "\n",
      "\n",
      "The following object is masked from ‘package:partykit’:\n",
      "\n",
      "    width\n",
      "\n",
      "\n",
      "The following object is masked from ‘package:purrr’:\n",
      "\n",
      "    compose\n",
      "\n",
      "\n"
     ]
    }
   ],
   "source": [
    "# Packages\n",
    "library(caret)\n",
    "library(tidyverse)\n",
    "# For cleaning names\n",
    "library(janitor)\n",
    "# Best subset selection \n",
    "library(yardstick)\n",
    "library(kknn)\n",
    "# For decision tree\n",
    "library(rpart)\n",
    "library(partykit)\n",
    "library(randomForest)\n",
    "#for dummy coding\n",
    "library(psych)\n",
    "library(pROC) \n",
    "library(tidyr)\n",
    "library(randomForest)\n",
    "library(gbm)\n",
    "library(flextable)"
   ]
  },
  {
   "cell_type": "code",
   "execution_count": 6,
   "id": "71f33776-452b-4243-be42-7220e30046b9",
   "metadata": {},
   "outputs": [],
   "source": [
    "# Load data\n",
    "dataset_math_perform  <- read.csv(\"../../../data/clean_data_student_math_performance.csv\", \n",
    "                                      header=TRUE) \n"
   ]
  },
  {
   "cell_type": "code",
   "execution_count": 7,
   "id": "fd3d468d-9613-483c-9fe3-1e1c402bd10e",
   "metadata": {},
   "outputs": [],
   "source": [
    "math_performance  <- \n",
    "  dataset_math_perform %>% \n",
    "    # Remove g1 and g2 \n",
    "    dplyr::select(-c(g3,X,g1,g2)) %>% \n",
    "        \n",
    "        # Transform variables to numeric\n",
    "        mutate(g3_binary = factor(g3_binary),\n",
    "               absences = as.integer(absences)) %>%\n",
    "        # Transform chr type to factor\n",
    "        mutate(across(where(is.character), as.factor))"
   ]
  },
  {
   "cell_type": "code",
   "execution_count": 8,
   "id": "9cb047e5-10f1-4605-8afa-39bfd8990683",
   "metadata": {},
   "outputs": [
    {
     "name": "stdout",
     "output_type": "stream",
     "text": [
      "'data.frame':\t395 obs. of  31 variables:\n",
      " $ school    : Factor w/ 2 levels \"GP\",\"MS\": 1 1 1 1 1 1 1 1 1 1 ...\n",
      " $ sex       : Factor w/ 2 levels \"F\",\"M\": 1 1 1 1 1 2 2 1 2 2 ...\n",
      " $ age       : int  18 17 15 15 16 16 16 17 15 15 ...\n",
      " $ address   : Factor w/ 2 levels \"R\",\"U\": 2 2 2 2 2 2 2 2 2 2 ...\n",
      " $ famsize   : Factor w/ 2 levels \"GT3\",\"LE3\": 1 1 2 1 1 2 2 1 2 1 ...\n",
      " $ pstatus   : Factor w/ 2 levels \"A\",\"T\": 1 2 2 2 2 2 2 1 1 2 ...\n",
      " $ medu      : int  4 1 1 4 3 4 2 4 3 3 ...\n",
      " $ fedu      : int  4 1 1 2 3 3 2 4 2 4 ...\n",
      " $ mjob      : Factor w/ 5 levels \"at_home\",\"health\",..: 1 1 1 2 3 4 3 3 4 3 ...\n",
      " $ fjob      : Factor w/ 5 levels \"at_home\",\"health\",..: 5 3 3 4 3 3 3 5 3 3 ...\n",
      " $ reason    : Factor w/ 4 levels \"course\",\"home\",..: 1 1 3 2 2 4 2 2 2 2 ...\n",
      " $ guardian  : Factor w/ 3 levels \"father\",\"mother\",..: 2 1 2 2 1 2 2 2 2 2 ...\n",
      " $ traveltime: int  2 1 1 1 1 1 1 2 1 1 ...\n",
      " $ studytime : int  2 2 2 3 2 2 2 2 2 2 ...\n",
      " $ failures  : int  0 0 3 0 0 0 0 0 0 0 ...\n",
      " $ schoolsup : Factor w/ 2 levels \"no\",\"yes\": 2 1 2 1 1 1 1 2 1 1 ...\n",
      " $ famsup    : Factor w/ 2 levels \"no\",\"yes\": 1 2 1 2 2 2 1 2 2 2 ...\n",
      " $ paid      : Factor w/ 2 levels \"no\",\"yes\": 1 1 2 2 2 2 1 1 2 2 ...\n",
      " $ activities: Factor w/ 2 levels \"no\",\"yes\": 1 1 1 2 1 2 1 1 1 2 ...\n",
      " $ nursery   : Factor w/ 2 levels \"no\",\"yes\": 2 1 2 2 2 2 2 2 2 2 ...\n",
      " $ higher    : Factor w/ 2 levels \"no\",\"yes\": 2 2 2 2 2 2 2 2 2 2 ...\n",
      " $ internet  : Factor w/ 2 levels \"no\",\"yes\": 1 2 2 2 1 2 2 1 2 2 ...\n",
      " $ romantic  : Factor w/ 2 levels \"no\",\"yes\": 1 1 1 2 1 1 1 1 1 1 ...\n",
      " $ famrel    : int  4 5 4 3 4 5 4 4 4 5 ...\n",
      " $ freetime  : int  3 3 3 2 3 4 4 1 2 5 ...\n",
      " $ goout     : int  4 3 2 2 2 2 4 4 2 1 ...\n",
      " $ dalc      : int  1 1 2 1 1 1 1 1 1 1 ...\n",
      " $ walc      : int  1 1 3 1 2 2 1 1 1 1 ...\n",
      " $ health    : int  3 3 3 5 5 5 3 1 1 5 ...\n",
      " $ absences  : int  6 4 10 2 4 10 0 6 0 0 ...\n",
      " $ g3_binary : Factor w/ 2 levels \"fail\",\"pass\": 1 1 2 2 2 2 2 1 2 2 ...\n"
     ]
    }
   ],
   "source": [
    "str(math_performance)"
   ]
  },
  {
   "cell_type": "markdown",
   "id": "c243107f-8a1b-4835-915e-182b6029cfed",
   "metadata": {},
   "source": [
    "# Split data into training and testing"
   ]
  },
  {
   "cell_type": "code",
   "execution_count": 10,
   "id": "dd09cafa-6262-4a50-8dd5-223eadfcb3ce",
   "metadata": {},
   "outputs": [],
   "source": [
    "set.seed(1000)\n",
    "# slip data into train and test\n",
    "\n",
    "# Get index\n",
    "train_index <- sample(1:nrow(math_performance ),\n",
    "                      (nrow(math_performance )*75)/100)\n",
    "\n",
    "# Train set\n",
    "math_performance_train <- math_performance[train_index,]\n",
    "\n",
    "# Test set\n",
    "math_performance_test <- math_performance[-train_index,]"
   ]
  },
  {
   "cell_type": "code",
   "execution_count": 11,
   "id": "5d5fb3ba-1180-4253-9775-a79d7713e46e",
   "metadata": {},
   "outputs": [],
   "source": [
    "# First, we set up the cross validation control\n",
    "# Setting up the k-fold cross validation k = 10 cross-validation folds.\n",
    "\n",
    "#Setting the random seed for replication\n",
    "set.seed(999)\n",
    "\n",
    "#setting up cross-validation\n",
    "cvcontrol <- trainControl(method = \"repeatedcv\", \n",
    "                          number = 10,\n",
    "                          allowParallel = TRUE)"
   ]
  },
  {
   "cell_type": "markdown",
   "id": "add8651a-8d8f-4842-8fbb-bfdbbc261d45",
   "metadata": {},
   "source": [
    "# Classification Tree"
   ]
  },
  {
   "cell_type": "code",
   "execution_count": 12,
   "id": "11c00342-3c10-44de-acef-f75fab98e9ac",
   "metadata": {},
   "outputs": [],
   "source": [
    "train_tree <- train(g3_binary ~ ., \n",
    "                   data = math_performance_train,\n",
    "                   method = \"ctree\",\n",
    "                   trControl = cvcontrol,\n",
    "                   tuneLength = 5)"
   ]
  },
  {
   "cell_type": "code",
   "execution_count": 13,
   "id": "86c4ba86-745e-48eb-99b8-50eac52256cc",
   "metadata": {},
   "outputs": [],
   "source": [
    "# obtaining class predictions\n",
    "tree_class_test <-  predict(train_tree,\n",
    "                            newdata = math_performance_test, \n",
    "                            type = \"raw\")"
   ]
  },
  {
   "cell_type": "code",
   "execution_count": 14,
   "id": "e03aee35-ab91-41cc-a777-b44c31027f61",
   "metadata": {},
   "outputs": [],
   "source": [
    "descision_tree_stats <- confusionMatrix(math_performance_test$g3_binary,\n",
    "                                        tree_class_test,positive = \"pass\" )\n",
    "\n",
    "decision_table <- \n",
    "    rbind(as.data.frame(descision_tree_stats[3]) %>%\n",
    "            rownames_to_column(\"var\") %>% \n",
    "            rename(value = \"overall\") %>% \n",
    "            filter(var %in% c(\"Accuracy\",\"AccuracyLower\",\"AccuracyUpper\")),\n",
    "            \n",
    "          as.data.frame(descision_tree_stats[4]) %>% \n",
    "            rownames_to_column(\"var\")  %>%\n",
    "            rename(value = \"byClass\") %>%\n",
    "            filter(var %in% c(\"Sensitivity\",\"Specificity\"))) %>%\n",
    "      \n",
    "    mutate(model = factor(rep(\"decision_tree\", nrow(.))))"
   ]
  },
  {
   "cell_type": "markdown",
   "id": "fbd85aa5-a1b4-4997-b59b-b5e9d5561a8b",
   "metadata": {},
   "source": [
    "# Bagging of ctrees"
   ]
  },
  {
   "cell_type": "code",
   "execution_count": 15,
   "id": "eb11b13a-1faa-440f-b071-17381e639f73",
   "metadata": {},
   "outputs": [],
   "source": [
    "#Using treebag \n",
    "train_bagg <- train(g3_binary  ~ ., \n",
    "                   data = math_performance_train,\n",
    "                   method = \"treebag\",\n",
    "                   trControl = cvcontrol,\n",
    "                   importance = TRUE,\n",
    "                   tuneLength = 5,)\n"
   ]
  },
  {
   "cell_type": "code",
   "execution_count": 16,
   "id": "59487f91-f79f-4b62-a635-24a109cfdc87",
   "metadata": {},
   "outputs": [],
   "source": [
    "bagg_class_test <- predict(train_bagg, \n",
    "                          newdata = math_performance_test,\n",
    "                          type=\"raw\")"
   ]
  },
  {
   "cell_type": "code",
   "execution_count": 17,
   "id": "2f8ac757-d374-4a34-b9eb-22d4e9e51b45",
   "metadata": {},
   "outputs": [],
   "source": [
    "bagging_stats <- confusionMatrix(math_performance_test$g3_binary, bagg_class_test,\n",
    "                                 positive = \"pass\")\n",
    "\n",
    "bagging_table <- \n",
    "  rbind(as.data.frame(bagging_stats[3]) %>% \n",
    "          rownames_to_column(\"var\") %>% \n",
    "          rename(value = \"overall\") %>% \n",
    "          filter(var %in% c(\"Accuracy\",\"AccuracyLower\",\"AccuracyUpper\")),\n",
    "            \n",
    "        as.data.frame(bagging_stats[4]) %>% \n",
    "          rownames_to_column(\"var\")  %>%\n",
    "          rename(value = \"byClass\") %>%\n",
    "          filter(var %in% c(\"Sensitivity\",\"Specificity\"))) %>% \n",
    "  mutate(model = factor(rep(\"bagging_tree\", nrow(.))))"
   ]
  },
  {
   "cell_type": "markdown",
   "id": "39316958-e337-4471-ba89-12da18cbf507",
   "metadata": {},
   "source": [
    "# Random Forest for classification trees"
   ]
  },
  {
   "cell_type": "code",
   "execution_count": 19,
   "id": "17d69b66-c7bd-4c35-9865-699104e67122",
   "metadata": {},
   "outputs": [],
   "source": [
    "#Using treebag \n",
    "train_random_forest <- train(g3_binary  ~ ., \n",
    "                             data = math_performance_train,\n",
    "                             method = \"rf\",\n",
    "                             trControl = cvcontrol,\n",
    "                             importance = TRUE)"
   ]
  },
  {
   "cell_type": "code",
   "execution_count": 20,
   "id": "637f9c05-a5ce-42ef-8630-42b7155648cf",
   "metadata": {},
   "outputs": [],
   "source": [
    "#obtaining class predictions\n",
    "rf_class_test <- predict(train_random_forest, \n",
    "                         newdata = math_performance_test,\n",
    "                          type=\"raw\")"
   ]
  },
  {
   "cell_type": "code",
   "execution_count": 21,
   "id": "4eba92eb-18c8-4c14-b317-1e81e42593bf",
   "metadata": {},
   "outputs": [],
   "source": [
    "random_forest_stats <- confusionMatrix(math_performance_test$g3_binary,rf_class_test,\n",
    "                positive = \"pass\" )\n",
    "\n",
    "rf_table <- \n",
    "  rbind(as.data.frame(random_forest_stats[3]) %>% \n",
    "        rownames_to_column(\"var\") %>% \n",
    "        rename(value = \"overall\") %>% \n",
    "        filter(var %in% c(\"Accuracy\",\"AccuracyLower\",\"AccuracyUpper\")),\n",
    "          \n",
    "      as.data.frame(random_forest_stats[4]) %>% \n",
    "        rownames_to_column(\"var\")  %>%\n",
    "        rename(value = \"byClass\") %>%\n",
    "        filter(var %in% c(\"Sensitivity\",\"Specificity\"))) %>% \n",
    "  mutate(model = factor(rep(\"random_forest\", nrow(.))))"
   ]
  },
  {
   "cell_type": "markdown",
   "id": "2375ea4b-f722-4f21-ab27-76ee8d410145",
   "metadata": {},
   "source": [
    "# Random Forest with Gradient Boosting"
   ]
  },
  {
   "cell_type": "code",
   "execution_count": 22,
   "id": "89f564fc-f78d-4619-b97b-7ce8b656814e",
   "metadata": {},
   "outputs": [],
   "source": [
    "train_gbm <- train(g3_binary ~ ., \n",
    "                   data = math_performance_train,\n",
    "                   method=\"gbm\",\n",
    "                   \n",
    "                   verbose = F,\n",
    "                   trControl=cvcontrol)"
   ]
  },
  {
   "cell_type": "code",
   "execution_count": 23,
   "id": "8774903d-d0e9-4cf4-b2c2-cb85b9d7266f",
   "metadata": {},
   "outputs": [],
   "source": [
    "#obtaining class predictions\n",
    "gbm_class_test <-  predict(train_gbm,\n",
    "                           newdata = math_performance_test,\n",
    "                           type = \"raw\",\n",
    "                           importance = T)"
   ]
  },
  {
   "cell_type": "code",
   "execution_count": 24,
   "id": "cd2039aa-4cad-454c-9b32-f49532c394c1",
   "metadata": {},
   "outputs": [],
   "source": [
    "#computing confusion matrix\n",
    "random_rorest_gradient_boosting_stats <- confusionMatrix(math_performance_test$g3_binary,\n",
    "                                                   gbm_class_test,\n",
    "                                                   positive = \"pass\" )\n",
    "\n",
    "rf_gradient_boosting_table <- \n",
    "          rbind(as.data.frame(random_rorest_gradient_boosting_stats[3]) %>% \n",
    "                  rownames_to_column(\"var\") %>% \n",
    "                  rename(value = \"overall\") %>% \n",
    "                  filter(var %in% c(\"Accuracy\",\"AccuracyLower\",\"AccuracyUpper\")),\n",
    "                    \n",
    "                as.data.frame(random_rorest_gradient_boosting_stats[4]) %>% \n",
    "                  rownames_to_column(\"var\")  %>%\n",
    "                  rename(value = \"byClass\") %>%\n",
    "                  filter(var %in% c(\"Sensitivity\",\"Specificity\"))) %>% \n",
    "          mutate(model = factor(rep(\"random_rorest_gradient_boosting\",nrow(.))))"
   ]
  },
  {
   "cell_type": "markdown",
   "id": "78c08014-5f15-493b-978c-b737af2b2933",
   "metadata": {},
   "source": [
    "# kNN"
   ]
  },
  {
   "cell_type": "code",
   "execution_count": 25,
   "id": "bb9388a1-a157-4626-8bba-6e0a2079cc6a",
   "metadata": {},
   "outputs": [],
   "source": [
    "knn_pred_caret <- train(g3_binary ~ .,\n",
    "                        math_performance_train,\n",
    "                        method = \"knn\",\n",
    "                        preProcess = c(\"center\",\"scale\"))\n"
   ]
  },
  {
   "cell_type": "code",
   "execution_count": 26,
   "id": "a08aa438-ffe8-4dcc-af5f-78b20223bc9e",
   "metadata": {},
   "outputs": [],
   "source": [
    "knn_predict <- predict(knn_pred_caret, newdata = math_performance_test)"
   ]
  },
  {
   "cell_type": "code",
   "execution_count": 27,
   "id": "7b3177d7-fb7e-43de-8f0d-bd8175caae6e",
   "metadata": {},
   "outputs": [],
   "source": [
    "knn_stats <- confusionMatrix(knn_predict, math_performance_test$g3_binary, \n",
    "                positive = \"pass\")\n",
    "\n",
    "knn_table <- \n",
    "      rbind(as.data.frame(knn_stats[3]) %>% \n",
    "              rownames_to_column(\"var\") %>% \n",
    "              rename(value = \"overall\") %>% \n",
    "              filter(var %in% c(\"Accuracy\",\"AccuracyLower\",\"AccuracyUpper\")),\n",
    "          \n",
    "            as.data.frame(knn_stats[4]) %>% \n",
    "              rownames_to_column(\"var\")  %>%\n",
    "              rename(value = \"byClass\") %>%\n",
    "              filter(var %in% c(\"Sensitivity\",\"Specificity\"))) %>% \n",
    "      mutate(model = factor(rep(\"knn\", nrow(.))))"
   ]
  },
  {
   "cell_type": "markdown",
   "id": "7ffbe3e4-40e9-4d9d-9825-13cbf2c3e12a",
   "metadata": {},
   "source": [
    "# Figure 6"
   ]
  },
  {
   "cell_type": "code",
   "execution_count": 28,
   "id": "b997ad3a-d3a3-4da5-a321-c542202bee95",
   "metadata": {},
   "outputs": [
    {
     "data": {
      "image/png": "[encoded data removed]",
      "text/plain": [
       "plot without title"
      ]
     },
     "metadata": {
      "image/png": {
       "height": 420,
       "width": 420
      }
     },
     "output_type": "display_data"
    }
   ],
   "source": [
    "plot(varImp(train_gbm))"
   ]
  },
  {
   "cell_type": "markdown",
   "id": "4004dc43-d556-4ff3-b464-82441c31d566",
   "metadata": {},
   "source": [
    "# Table 6"
   ]
  },
  {
   "cell_type": "code",
   "execution_count": 29,
   "id": "59362c6a-1783-407e-8a43-4a8d011ce5f7",
   "metadata": {},
   "outputs": [
    {
     "data": {
      "text/plain": [
       "a flextable object.\n",
       "col_keys: `model`, `Accuracy`, `AccuracyLower`, `AccuracyUpper`, `Sensitivity`, `Specificity` \n",
       "header has 1 row(s) \n",
       "body has 5 row(s) \n",
       "original dataset sample: \n",
       "                            model  Accuracy AccuracyLower AccuracyUpper\n",
       "1                   decision_tree 0.6868687     0.5858584     0.7763516\n",
       "2                    bagging_tree 0.6565657     0.5543693     0.7491181\n",
       "3                   random_forest 0.7171717     0.6177836     0.8031383\n",
       "4 random_rorest_gradient_boosting 0.7070707     0.6070913     0.7942614\n",
       "5                             knn 0.6464646     0.5439647     0.7399466\n",
       "  Sensitivity Specificity\n",
       "1   0.7073171   0.5882353\n",
       "2   0.7012987   0.5000000\n",
       "3   0.7402597   0.6363636\n",
       "4   0.7093023   0.6923077\n",
       "5   0.9230769   0.1176471"
      ]
     },
     "metadata": {},
     "output_type": "display_data"
    }
   ],
   "source": [
    "(table_6 <- rbind(decision_table, bagging_table, rf_table,\n",
    "            rf_gradient_boosting_table, knn_table) %>% \n",
    "    pivot_wider(names_from = var, values_from = value) %>% \n",
    "  flextable())"
   ]
  }
 ],
 "metadata": {
  "kernelspec": {
   "display_name": "R",
   "language": "R",
   "name": "ir"
  },
  "language_info": {
   "codemirror_mode": "r",
   "file_extension": ".r",
   "mimetype": "text/x-r-source",
   "name": "R",
   "pygments_lexer": "r",
   "version": "4.0.4"
  }
 },
 "nbformat": 4,
 "nbformat_minor": 5
}
